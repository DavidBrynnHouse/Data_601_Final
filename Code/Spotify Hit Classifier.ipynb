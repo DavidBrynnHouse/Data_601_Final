{
 "cells": [
  {
   "cell_type": "markdown",
   "metadata": {},
   "source": [
    "# Spotify Hit Classifier\n",
    "Using the spotify API to predict hit songs."
   ]
  },
  {
   "cell_type": "markdown",
   "metadata": {},
   "source": [
    "## Big Picture\n",
    "\n",
    "Spotify is a music application that allows users to listen to any music that they desire at any time. It provides an API where users can access information about songs that describe different numerical aspects of the songs. The question that I seek to answer is wheater it is possible to predict if a song will become a hit or not based on these values. By answering this question it would be possible to create music that had these traits and thus produce record hits. This would be especially useful for [AI-generated music](https://www.theverge.com/2019/4/26/18517803/openai-musenet-artificial-intelligence-ai-music-generation-lady-gaga-harry-potter-mozart)"
   ]
  },
  {
   "cell_type": "markdown",
   "metadata": {},
   "source": [
    "## Getting the data\n",
    "\n",
    "The data that I am using was collected using the Spotify API by the Kaggle user [Farooq Ansari](https://www.kaggle.com/theoverman). They also labeled each song as a hit or a flop and sorted them by the decade that they were released. "
   ]
  },
  {
   "cell_type": "markdown",
   "metadata": {},
   "source": [
    "## Explore the data"
   ]
  },
  {
   "cell_type": "code",
   "execution_count": 1,
   "metadata": {},
   "outputs": [
    {
     "data": {
      "text/html": [
       "<div>\n",
       "<style scoped>\n",
       "    .dataframe tbody tr th:only-of-type {\n",
       "        vertical-align: middle;\n",
       "    }\n",
       "\n",
       "    .dataframe tbody tr th {\n",
       "        vertical-align: top;\n",
       "    }\n",
       "\n",
       "    .dataframe thead th {\n",
       "        text-align: right;\n",
       "    }\n",
       "</style>\n",
       "<table border=\"1\" class=\"dataframe\">\n",
       "  <thead>\n",
       "    <tr style=\"text-align: right;\">\n",
       "      <th></th>\n",
       "      <th>danceability</th>\n",
       "      <th>energy</th>\n",
       "      <th>key</th>\n",
       "      <th>loudness</th>\n",
       "      <th>mode</th>\n",
       "      <th>speechiness</th>\n",
       "      <th>acousticness</th>\n",
       "      <th>instrumentalness</th>\n",
       "      <th>liveness</th>\n",
       "      <th>valence</th>\n",
       "      <th>tempo</th>\n",
       "      <th>duration_ms</th>\n",
       "      <th>time_signature</th>\n",
       "      <th>chorus_hit</th>\n",
       "      <th>sections</th>\n",
       "      <th>target</th>\n",
       "    </tr>\n",
       "  </thead>\n",
       "  <tbody>\n",
       "    <tr>\n",
       "      <th>0</th>\n",
       "      <td>0.578</td>\n",
       "      <td>0.471</td>\n",
       "      <td>4</td>\n",
       "      <td>-7.270</td>\n",
       "      <td>1</td>\n",
       "      <td>0.0289</td>\n",
       "      <td>0.368000</td>\n",
       "      <td>0.00000</td>\n",
       "      <td>0.159</td>\n",
       "      <td>0.532</td>\n",
       "      <td>133.061</td>\n",
       "      <td>196707</td>\n",
       "      <td>4</td>\n",
       "      <td>30.88059</td>\n",
       "      <td>13</td>\n",
       "      <td>1</td>\n",
       "    </tr>\n",
       "    <tr>\n",
       "      <th>1</th>\n",
       "      <td>0.704</td>\n",
       "      <td>0.854</td>\n",
       "      <td>10</td>\n",
       "      <td>-5.477</td>\n",
       "      <td>0</td>\n",
       "      <td>0.1830</td>\n",
       "      <td>0.018500</td>\n",
       "      <td>0.00000</td>\n",
       "      <td>0.148</td>\n",
       "      <td>0.688</td>\n",
       "      <td>92.988</td>\n",
       "      <td>242587</td>\n",
       "      <td>4</td>\n",
       "      <td>41.51106</td>\n",
       "      <td>10</td>\n",
       "      <td>1</td>\n",
       "    </tr>\n",
       "    <tr>\n",
       "      <th>2</th>\n",
       "      <td>0.162</td>\n",
       "      <td>0.836</td>\n",
       "      <td>9</td>\n",
       "      <td>-3.009</td>\n",
       "      <td>1</td>\n",
       "      <td>0.0473</td>\n",
       "      <td>0.000111</td>\n",
       "      <td>0.00457</td>\n",
       "      <td>0.174</td>\n",
       "      <td>0.300</td>\n",
       "      <td>86.964</td>\n",
       "      <td>338893</td>\n",
       "      <td>4</td>\n",
       "      <td>65.32887</td>\n",
       "      <td>13</td>\n",
       "      <td>0</td>\n",
       "    </tr>\n",
       "    <tr>\n",
       "      <th>3</th>\n",
       "      <td>0.188</td>\n",
       "      <td>0.994</td>\n",
       "      <td>4</td>\n",
       "      <td>-3.745</td>\n",
       "      <td>1</td>\n",
       "      <td>0.1660</td>\n",
       "      <td>0.000007</td>\n",
       "      <td>0.07840</td>\n",
       "      <td>0.192</td>\n",
       "      <td>0.333</td>\n",
       "      <td>148.440</td>\n",
       "      <td>255667</td>\n",
       "      <td>4</td>\n",
       "      <td>58.59528</td>\n",
       "      <td>9</td>\n",
       "      <td>0</td>\n",
       "    </tr>\n",
       "    <tr>\n",
       "      <th>4</th>\n",
       "      <td>0.630</td>\n",
       "      <td>0.764</td>\n",
       "      <td>2</td>\n",
       "      <td>-4.353</td>\n",
       "      <td>1</td>\n",
       "      <td>0.0275</td>\n",
       "      <td>0.363000</td>\n",
       "      <td>0.00000</td>\n",
       "      <td>0.125</td>\n",
       "      <td>0.631</td>\n",
       "      <td>112.098</td>\n",
       "      <td>193760</td>\n",
       "      <td>4</td>\n",
       "      <td>22.62384</td>\n",
       "      <td>10</td>\n",
       "      <td>1</td>\n",
       "    </tr>\n",
       "  </tbody>\n",
       "</table>\n",
       "</div>"
      ],
      "text/plain": [
       "   danceability  energy  key  loudness  mode  speechiness  acousticness  \\\n",
       "0         0.578   0.471    4    -7.270     1       0.0289      0.368000   \n",
       "1         0.704   0.854   10    -5.477     0       0.1830      0.018500   \n",
       "2         0.162   0.836    9    -3.009     1       0.0473      0.000111   \n",
       "3         0.188   0.994    4    -3.745     1       0.1660      0.000007   \n",
       "4         0.630   0.764    2    -4.353     1       0.0275      0.363000   \n",
       "\n",
       "   instrumentalness  liveness  valence    tempo  duration_ms  time_signature  \\\n",
       "0           0.00000     0.159    0.532  133.061       196707               4   \n",
       "1           0.00000     0.148    0.688   92.988       242587               4   \n",
       "2           0.00457     0.174    0.300   86.964       338893               4   \n",
       "3           0.07840     0.192    0.333  148.440       255667               4   \n",
       "4           0.00000     0.125    0.631  112.098       193760               4   \n",
       "\n",
       "   chorus_hit  sections  target  \n",
       "0    30.88059        13       1  \n",
       "1    41.51106        10       1  \n",
       "2    65.32887        13       0  \n",
       "3    58.59528         9       0  \n",
       "4    22.62384        10       1  "
      ]
     },
     "execution_count": 1,
     "metadata": {},
     "output_type": "execute_result"
    }
   ],
   "source": [
    "import pandas as pd \n",
    "from sklearn import svm\n",
    "from sklearn.model_selection import cross_val_score\n",
    "from sklearn.neighbors import KNeighborsClassifier\n",
    "from sklearn.tree import DecisionTreeClassifier\n",
    "\n",
    "df = pd.read_csv('../Data/dataset-of-00s.csv')\n",
    "\n",
    "# remove non numeric columns\n",
    "del df['track']\n",
    "del df['artist']\n",
    "del df['uri']\n",
    "\n",
    "df.head()"
   ]
  },
  {
   "cell_type": "markdown",
   "metadata": {},
   "source": [
    "## Prepare the data"
   ]
  },
  {
   "cell_type": "code",
   "execution_count": 2,
   "metadata": {},
   "outputs": [],
   "source": [
    "# Features\n",
    "X = df.iloc[:,:-1] \n",
    "# Labels\n",
    "y = df.iloc[:,-1] "
   ]
  },
  {
   "cell_type": "markdown",
   "metadata": {},
   "source": [
    "## Explore Models"
   ]
  },
  {
   "cell_type": "code",
   "execution_count": 3,
   "metadata": {},
   "outputs": [
    {
     "name": "stdout",
     "output_type": "stream",
     "text": [
      "Accuracy: 0.63 (+/- 0.03)\n"
     ]
    }
   ],
   "source": [
    "# Train a K-nearest neighbors on the labeled data\n",
    "knn_classifier = KNeighborsClassifier()\n",
    "knn_scores = cross_val_score(knn_classifier, X, y, cv=5)\n",
    "print(\"Accuracy: %0.2f (+/- %0.2f)\" % (knn_scores.mean(), knn_scores.std() * 2))"
   ]
  },
  {
   "cell_type": "code",
   "execution_count": 4,
   "metadata": {},
   "outputs": [
    {
     "name": "stdout",
     "output_type": "stream",
     "text": [
      "Accuracy: 0.60 (+/- 0.02)\n"
     ]
    }
   ],
   "source": [
    "# Train an svm on the labeled data to learn about ham and spam emails\n",
    "svm_classifier = svm.SVC(gamma=0.001, C=100.)\n",
    "svm_scores = cross_val_score(svm_classifier, X, y, cv=5)\n",
    "print(\"Accuracy: %0.2f (+/- %0.2f)\" % (svm_scores.mean(), svm_scores.std() * 2))"
   ]
  },
  {
   "cell_type": "code",
   "execution_count": 5,
   "metadata": {},
   "outputs": [
    {
     "name": "stdout",
     "output_type": "stream",
     "text": [
      "Accuracy: 0.77 (+/- 0.02)\n"
     ]
    }
   ],
   "source": [
    "# Train a Decision tree on the labeled data\n",
    "dtree_classifier = DecisionTreeClassifier(random_state=0)\n",
    "dtree_scores = cross_val_score(dtree_classifier, X, y, cv=5)\n",
    "print(\"Accuracy: %0.2f (+/- %0.2f)\" % (dtree_scores.mean(), dtree_scores.std() * 2))"
   ]
  },
  {
   "cell_type": "markdown",
   "metadata": {},
   "source": [
    "## Fine-tune Model\n",
    "Since the decision tree has the most accurate base value I will be tuning it to see if I can get an even better result."
   ]
  },
  {
   "cell_type": "code",
   "execution_count": 11,
   "metadata": {},
   "outputs": [
    {
     "name": "stdout",
     "output_type": "stream",
     "text": [
      "Accuracy: 0.75 (+/- 0.02), Max Depth: 1\n",
      "Accuracy: 0.78 (+/- 0.01), Max Depth: 2\n",
      "Accuracy: 0.80 (+/- 0.01), Max Depth: 3\n",
      "Accuracy: 0.80 (+/- 0.02), Max Depth: 4\n",
      "Accuracy: 0.81 (+/- 0.01), Max Depth: 5\n",
      "Accuracy: 0.81 (+/- 0.02), Max Depth: 6\n",
      "Accuracy: 0.82 (+/- 0.02), Max Depth: 7\n",
      "Accuracy: 0.81 (+/- 0.02), Max Depth: 8\n",
      "Accuracy: 0.81 (+/- 0.01), Max Depth: 9\n"
     ]
    }
   ],
   "source": [
    "for x in range(1,10):\n",
    "    clf = DecisionTreeClassifier(criterion=\"entropy\", max_depth=x)\n",
    "    dtree_scores = cross_val_score(clf, X, y, cv=5)\n",
    "    print(\"Accuracy: %0.2f (+/- %0.2f), Max Depth: %0.0f\" % (dtree_scores.mean(), dtree_scores.std() * 2, x))"
   ]
  },
  {
   "cell_type": "markdown",
   "metadata": {},
   "source": [
    "## Solution\n",
    "\n",
    "From the fine-tuning of the model, we can see that a max depth of 7 gives us the best result with an accuracy of 82 +/- 2%. This is a very strong result, meaning that we can very accuratley predict wheater a song will be a hit or not solely based on its attributes."
   ]
  },
  {
   "cell_type": "markdown",
   "metadata": {},
   "source": [
    "## Limitations and later work\n",
    "\n",
    "The biggest limitation to this work is the method by which it was labeled. It is not clear how this dataset was labeled. The only definition they give is thus: \"'Flop' here merely implies that it is a track that probably could not be considered popular in the mainstream.)\" This makes it seem very subjective. A better leeling system would have been to see how many times a song was played or how much money it made."
   ]
  },
  {
   "cell_type": "markdown",
   "metadata": {},
   "source": [
    "## References\n",
    "\n",
    "Data set retrieved from: https://www.kaggle.com/theoverman/the-spotify-hit-predictor-dataset"
   ]
  },
  {
   "cell_type": "code",
   "execution_count": null,
   "metadata": {},
   "outputs": [],
   "source": []
  }
 ],
 "metadata": {
  "kernelspec": {
   "display_name": "Python 3",
   "language": "python",
   "name": "python3"
  },
  "language_info": {
   "codemirror_mode": {
    "name": "ipython",
    "version": 3
   },
   "file_extension": ".py",
   "mimetype": "text/x-python",
   "name": "python",
   "nbconvert_exporter": "python",
   "pygments_lexer": "ipython3",
   "version": "3.8.3"
  }
 },
 "nbformat": 4,
 "nbformat_minor": 4
}
